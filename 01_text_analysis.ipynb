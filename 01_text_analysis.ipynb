{
 "cells": [
  {
   "cell_type": "markdown",
   "metadata": {},
   "source": [
    "# Discourse Context Frequency - Historical Sociolinguistics\n",
    "\n",
    "Paste abstract here.\n",
    "\n",
    "[https://www.gutenberg.org/cache/epub/1619/pg1619.txt](https://www.gutenberg.org/cache/epub/1619/pg1619.txt)"
   ]
  },
  {
   "cell_type": "code",
   "execution_count": 15,
   "metadata": {},
   "outputs": [],
   "source": [
    "text = []\n",
    "with open('data/celestina.txt') as f:\n",
    "    text = f.read()"
   ]
  },
  {
   "cell_type": "code",
   "execution_count": 23,
   "metadata": {},
   "outputs": [],
   "source": [
    "import re"
   ]
  },
  {
   "cell_type": "markdown",
   "metadata": {},
   "source": [
    "Remove unnecessary text at the start. The text begins with the title `[LA CELESTINA]`."
   ]
  },
  {
   "cell_type": "code",
   "execution_count": 30,
   "metadata": {},
   "outputs": [
    {
     "data": {
      "text/plain": [
       "<re.Match object; span=(12671, 12685), match='[LA CELESTINA]'>"
      ]
     },
     "execution_count": 30,
     "metadata": {},
     "output_type": "execute_result"
    }
   ],
   "source": [
    "re.search(\"\\[LA CELESTINA\\]\", text)"
   ]
  },
  {
   "cell_type": "code",
   "execution_count": 28,
   "metadata": {},
   "outputs": [
    {
     "data": {
      "text/plain": [
       "656375"
      ]
     },
     "execution_count": 28,
     "metadata": {},
     "output_type": "execute_result"
    }
   ],
   "source": [
    "text_start = text[12671:]\n",
    "len(text_start)"
   ]
  },
  {
   "cell_type": "markdown",
   "metadata": {},
   "source": [
    "Remove unnecessary text at the end. The final line of the text is `[A Dios gracias.]`."
   ]
  },
  {
   "cell_type": "code",
   "execution_count": 31,
   "metadata": {},
   "outputs": [
    {
     "data": {
      "text/plain": [
       "<re.Match object; span=(381463, 381480), match='[A Dios gracias.]'>"
      ]
     },
     "execution_count": 31,
     "metadata": {},
     "output_type": "execute_result"
    }
   ],
   "source": [
    "re.search(\"\\[A Dios gracias.\\]\", text_start)"
   ]
  },
  {
   "cell_type": "code",
   "execution_count": 32,
   "metadata": {},
   "outputs": [
    {
     "data": {
      "text/plain": [
       "381481"
      ]
     },
     "execution_count": 32,
     "metadata": {},
     "output_type": "execute_result"
    }
   ],
   "source": [
    "new_text = text_start[:381481]\n",
    "len(new_text)"
   ]
  },
  {
   "cell_type": "markdown",
   "metadata": {},
   "source": [
    "The text contains many linebreaks `\\n`, sometimes multiple in a row. Before beginning, we will replace all instances of `\\n` with a single space."
   ]
  },
  {
   "cell_type": "code",
   "execution_count": 415,
   "metadata": {},
   "outputs": [],
   "source": [
    "text_2 = re.sub(\"(\\\\n)+\", \" \", new_text)"
   ]
  },
  {
   "cell_type": "markdown",
   "metadata": {},
   "source": [
    "Remove instances of double spaces."
   ]
  },
  {
   "cell_type": "code",
   "execution_count": 416,
   "metadata": {},
   "outputs": [],
   "source": [
    "text_3 = re.sub(\"\\s\\s\", \" \", text_2)"
   ]
  },
  {
   "cell_type": "markdown",
   "metadata": {},
   "source": [
    "## Identify token words\n",
    "\n",
    "Move token words into dataframe of structure:\n",
    "\n",
    "- token\n",
    "- token frequency in text (log frequency per million)\n",
    "- preceeding phonological context\n",
    "- following phonological context\n",
    "- transmission history (oral, written)\n",
    "- favorable preceeding (yes, no)\n",
    "- favorable following (yes, no)\n",
    "- lexical stress (stress, unstress)\n",
    "- FFC (proportion of tokens found in favorable)\n",
    "- obstruent in original Latin (p, f, k)\n",
    "- hapax token (yes if only instance, no if multiple instances)\n",
    "- Modern Spanish realization (preservation, palatalization)"
   ]
  },
  {
   "cell_type": "markdown",
   "metadata": {},
   "source": [
    "The following regex expression will find all words beginning with cl-, fl-, pl- or ll- and will give the surrounding context for each instance."
   ]
  },
  {
   "cell_type": "code",
   "execution_count": 418,
   "metadata": {},
   "outputs": [
    {
     "data": {
      "text/plain": [
       "' de su perdicion: lleuaronla en alto, no sabe'"
      ]
     },
     "metadata": {},
     "output_type": "display_data"
    }
   ],
   "source": [
    "display(text_3[3735:3780])"
   ]
  },
  {
   "cell_type": "code",
   "execution_count": 558,
   "metadata": {},
   "outputs": [],
   "source": [
    "words = re.findall(r'.{0,20}\\s[p,f,c,l]l\\w+.{0,2}', text_3)"
   ]
  },
  {
   "cell_type": "code",
   "execution_count": 559,
   "metadata": {},
   "outputs": [
    {
     "data": {
      "text/plain": [
       "516"
      ]
     },
     "execution_count": 559,
     "metadata": {},
     "output_type": "execute_result"
    }
   ],
   "source": [
    "len(words)"
   ]
  },
  {
   "cell_type": "code",
   "execution_count": 560,
   "metadata": {},
   "outputs": [
    {
     "data": {
      "text/plain": [
       "516"
      ]
     },
     "execution_count": 560,
     "metadata": {},
     "output_type": "execute_result"
    }
   ],
   "source": [
    "len(set(words))"
   ]
  },
  {
   "cell_type": "code",
   "execution_count": 562,
   "metadata": {},
   "outputs": [
    {
     "data": {
      "text/plain": [
       "516"
      ]
     },
     "execution_count": 562,
     "metadata": {},
     "output_type": "execute_result"
    }
   ],
   "source": [
    "context_ind = [m.span() for m in re.finditer(r'.{0,20}\\s[p,f,c,l]l\\w+.{0,2}', text_3)]\n",
    "len(context_ind)"
   ]
  },
  {
   "cell_type": "code",
   "execution_count": 566,
   "metadata": {},
   "outputs": [
    {
     "data": {
      "text/plain": [
       "516"
      ]
     },
     "execution_count": 566,
     "metadata": {},
     "output_type": "execute_result"
    }
   ],
   "source": [
    "context = []\n",
    "for x in context_ind:\n",
    "    start = x[0]\n",
    "    new_start = start - 10\n",
    "    end = x[1]\n",
    "    new_end = end + 25\n",
    "    \n",
    "    context.append(text_3[new_start:new_end])\n",
    "len(context)    "
   ]
  },
  {
   "cell_type": "code",
   "execution_count": 461,
   "metadata": {},
   "outputs": [],
   "source": [
    "import pandas as pd"
   ]
  },
  {
   "cell_type": "code",
   "execution_count": 579,
   "metadata": {},
   "outputs": [
    {
     "data": {
      "text/html": [
       "<div>\n",
       "<style scoped>\n",
       "    .dataframe tbody tr th:only-of-type {\n",
       "        vertical-align: middle;\n",
       "    }\n",
       "\n",
       "    .dataframe tbody tr th {\n",
       "        vertical-align: top;\n",
       "    }\n",
       "\n",
       "    .dataframe thead th {\n",
       "        text-align: right;\n",
       "    }\n",
       "</style>\n",
       "<table border=\"1\" class=\"dataframe\">\n",
       "  <thead>\n",
       "    <tr style=\"text-align: right;\">\n",
       "      <th></th>\n",
       "      <th>context_small</th>\n",
       "    </tr>\n",
       "  </thead>\n",
       "  <tbody>\n",
       "    <tr>\n",
       "      <th>0</th>\n",
       "      <td>de Milan: mas en los claros i</td>\n",
       "    </tr>\n",
       "    <tr>\n",
       "      <th>1</th>\n",
       "      <td>tificio: su fuerte e claro m</td>\n",
       "    </tr>\n",
       "    <tr>\n",
       "      <th>2</th>\n",
       "      <td>las de su perdicion: lleuaronla e</td>\n",
       "    </tr>\n",
       "    <tr>\n",
       "      <th>3</th>\n",
       "      <td>ue ella, por ceuo la lleuan:</td>\n",
       "    </tr>\n",
       "    <tr>\n",
       "      <th>4</th>\n",
       "      <td>on es que aplique mi pluma e</td>\n",
       "    </tr>\n",
       "  </tbody>\n",
       "</table>\n",
       "</div>"
      ],
      "text/plain": [
       "                       context_small\n",
       "0      de Milan: mas en los claros i\n",
       "1       tificio: su fuerte e claro m\n",
       "2  las de su perdicion: lleuaronla e\n",
       "3      ue ella, por ceuo la lleuan: \n",
       "4       on es que aplique mi pluma e"
      ]
     },
     "execution_count": 579,
     "metadata": {},
     "output_type": "execute_result"
    }
   ],
   "source": [
    "df = pd.DataFrame(words)\n",
    "df = df.rename(columns={0: \"context_small\"})\n",
    "df.head()"
   ]
  },
  {
   "cell_type": "code",
   "execution_count": 580,
   "metadata": {},
   "outputs": [],
   "source": [
    "df[\"context_large\"] = context"
   ]
  },
  {
   "cell_type": "code",
   "execution_count": 581,
   "metadata": {},
   "outputs": [],
   "source": [
    "df[\"word\"] = df[\"context_small\"].apply(lambda x: re.search(r'\\s[pflc]l\\w+', x).group())"
   ]
  },
  {
   "cell_type": "code",
   "execution_count": 582,
   "metadata": {},
   "outputs": [
    {
     "data": {
      "text/html": [
       "<div>\n",
       "<style scoped>\n",
       "    .dataframe tbody tr th:only-of-type {\n",
       "        vertical-align: middle;\n",
       "    }\n",
       "\n",
       "    .dataframe tbody tr th {\n",
       "        vertical-align: top;\n",
       "    }\n",
       "\n",
       "    .dataframe thead th {\n",
       "        text-align: right;\n",
       "    }\n",
       "</style>\n",
       "<table border=\"1\" class=\"dataframe\">\n",
       "  <thead>\n",
       "    <tr style=\"text-align: right;\">\n",
       "      <th></th>\n",
       "      <th>context_small</th>\n",
       "      <th>context_large</th>\n",
       "      <th>word</th>\n",
       "    </tr>\n",
       "  </thead>\n",
       "  <tbody>\n",
       "    <tr>\n",
       "      <th>0</th>\n",
       "      <td>de Milan: mas en los claros i</td>\n",
       "      <td>herrerias de Milan: mas en los claros ingenios...</td>\n",
       "      <td>claros</td>\n",
       "    </tr>\n",
       "    <tr>\n",
       "      <th>1</th>\n",
       "      <td>tificio: su fuerte e claro m</td>\n",
       "      <td>: sotil artificio: su fuerte e claro metal: su...</td>\n",
       "      <td>claro</td>\n",
       "    </tr>\n",
       "    <tr>\n",
       "      <th>2</th>\n",
       "      <td>las de su perdicion: lleuaronla e</td>\n",
       "      <td>tose con alas de su perdicion: lleuaronla en a...</td>\n",
       "      <td>lleuaronla</td>\n",
       "    </tr>\n",
       "    <tr>\n",
       "      <th>3</th>\n",
       "      <td>ue ella, por ceuo la lleuan:</td>\n",
       "      <td>rtes mas que ella, por ceuo la lleuan: en las ...</td>\n",
       "      <td>lleuan</td>\n",
       "    </tr>\n",
       "    <tr>\n",
       "      <th>4</th>\n",
       "      <td>on es que aplique mi pluma e</td>\n",
       "      <td>dano: razon es que aplique mi pluma este enga...</td>\n",
       "      <td>pluma</td>\n",
       "    </tr>\n",
       "  </tbody>\n",
       "</table>\n",
       "</div>"
      ],
      "text/plain": [
       "                       context_small  \\\n",
       "0      de Milan: mas en los claros i   \n",
       "1       tificio: su fuerte e claro m   \n",
       "2  las de su perdicion: lleuaronla e   \n",
       "3      ue ella, por ceuo la lleuan:    \n",
       "4       on es que aplique mi pluma e   \n",
       "\n",
       "                                       context_large        word  \n",
       "0  herrerias de Milan: mas en los claros ingenios...      claros  \n",
       "1  : sotil artificio: su fuerte e claro metal: su...       claro  \n",
       "2  tose con alas de su perdicion: lleuaronla en a...  lleuaronla  \n",
       "3  rtes mas que ella, por ceuo la lleuan: en las ...      lleuan  \n",
       "4   dano: razon es que aplique mi pluma este enga...       pluma  "
      ]
     },
     "execution_count": 582,
     "metadata": {},
     "output_type": "execute_result"
    }
   ],
   "source": [
    "df[\"word\"] = df[\"word\"].apply(lambda x: re.sub(r'\\s', \"\", x))\n",
    "df.head()"
   ]
  },
  {
   "cell_type": "code",
   "execution_count": 586,
   "metadata": {},
   "outputs": [
    {
     "data": {
      "text/html": [
       "<div>\n",
       "<style scoped>\n",
       "    .dataframe tbody tr th:only-of-type {\n",
       "        vertical-align: middle;\n",
       "    }\n",
       "\n",
       "    .dataframe tbody tr th {\n",
       "        vertical-align: top;\n",
       "    }\n",
       "\n",
       "    .dataframe thead th {\n",
       "        text-align: right;\n",
       "    }\n",
       "</style>\n",
       "<table border=\"1\" class=\"dataframe\">\n",
       "  <thead>\n",
       "    <tr style=\"text-align: right;\">\n",
       "      <th></th>\n",
       "      <th>context_small</th>\n",
       "      <th>context_large</th>\n",
       "      <th>word</th>\n",
       "      <th>prev</th>\n",
       "    </tr>\n",
       "  </thead>\n",
       "  <tbody>\n",
       "    <tr>\n",
       "      <th>0</th>\n",
       "      <td>de Milan: mas en los claros i</td>\n",
       "      <td>herrerias de Milan: mas en los claros ingenios...</td>\n",
       "      <td>claros</td>\n",
       "      <td>s</td>\n",
       "    </tr>\n",
       "    <tr>\n",
       "      <th>1</th>\n",
       "      <td>tificio: su fuerte e claro m</td>\n",
       "      <td>: sotil artificio: su fuerte e claro metal: su...</td>\n",
       "      <td>claro</td>\n",
       "      <td>e</td>\n",
       "    </tr>\n",
       "    <tr>\n",
       "      <th>2</th>\n",
       "      <td>las de su perdicion: lleuaronla e</td>\n",
       "      <td>tose con alas de su perdicion: lleuaronla en a...</td>\n",
       "      <td>lleuaronla</td>\n",
       "      <td>:</td>\n",
       "    </tr>\n",
       "    <tr>\n",
       "      <th>3</th>\n",
       "      <td>ue ella, por ceuo la lleuan:</td>\n",
       "      <td>rtes mas que ella, por ceuo la lleuan: en las ...</td>\n",
       "      <td>lleuan</td>\n",
       "      <td>a</td>\n",
       "    </tr>\n",
       "    <tr>\n",
       "      <th>4</th>\n",
       "      <td>on es que aplique mi pluma e</td>\n",
       "      <td>dano: razon es que aplique mi pluma este enga...</td>\n",
       "      <td>pluma</td>\n",
       "      <td>i</td>\n",
       "    </tr>\n",
       "  </tbody>\n",
       "</table>\n",
       "</div>"
      ],
      "text/plain": [
       "                       context_small  \\\n",
       "0      de Milan: mas en los claros i   \n",
       "1       tificio: su fuerte e claro m   \n",
       "2  las de su perdicion: lleuaronla e   \n",
       "3      ue ella, por ceuo la lleuan:    \n",
       "4       on es que aplique mi pluma e   \n",
       "\n",
       "                                       context_large        word prev  \n",
       "0  herrerias de Milan: mas en los claros ingenios...      claros    s  \n",
       "1  : sotil artificio: su fuerte e claro metal: su...       claro    e  \n",
       "2  tose con alas de su perdicion: lleuaronla en a...  lleuaronla    :  \n",
       "3  rtes mas que ella, por ceuo la lleuan: en las ...      lleuan    a  \n",
       "4   dano: razon es que aplique mi pluma este enga...       pluma    i  "
      ]
     },
     "execution_count": 586,
     "metadata": {},
     "output_type": "execute_result"
    }
   ],
   "source": [
    "df[\"prev\"] = df[\"context_large\"].apply(lambda x: re.search(r'.\\s[pflc]l', x).group())\n",
    "df[\"prev\"] = df[\"prev\"].apply(lambda x: re.sub(r'(.)\\s[pflc]l', (r\"\\1\"), x))\n",
    "df.head()"
   ]
  },
  {
   "cell_type": "code",
   "execution_count": 587,
   "metadata": {},
   "outputs": [],
   "source": [
    "import numpy as np"
   ]
  },
  {
   "cell_type": "code",
   "execution_count": 589,
   "metadata": {},
   "outputs": [
    {
     "data": {
      "text/html": [
       "<div>\n",
       "<style scoped>\n",
       "    .dataframe tbody tr th:only-of-type {\n",
       "        vertical-align: middle;\n",
       "    }\n",
       "\n",
       "    .dataframe tbody tr th {\n",
       "        vertical-align: top;\n",
       "    }\n",
       "\n",
       "    .dataframe thead th {\n",
       "        text-align: right;\n",
       "    }\n",
       "</style>\n",
       "<table border=\"1\" class=\"dataframe\">\n",
       "  <thead>\n",
       "    <tr style=\"text-align: right;\">\n",
       "      <th></th>\n",
       "      <th>context_small</th>\n",
       "      <th>context_large</th>\n",
       "      <th>word</th>\n",
       "      <th>prev</th>\n",
       "      <th>prev_fav</th>\n",
       "    </tr>\n",
       "  </thead>\n",
       "  <tbody>\n",
       "    <tr>\n",
       "      <th>0</th>\n",
       "      <td>de Milan: mas en los claros i</td>\n",
       "      <td>herrerias de Milan: mas en los claros ingenios...</td>\n",
       "      <td>claros</td>\n",
       "      <td>s</td>\n",
       "      <td>no</td>\n",
       "    </tr>\n",
       "    <tr>\n",
       "      <th>1</th>\n",
       "      <td>tificio: su fuerte e claro m</td>\n",
       "      <td>: sotil artificio: su fuerte e claro metal: su...</td>\n",
       "      <td>claro</td>\n",
       "      <td>e</td>\n",
       "      <td>yes</td>\n",
       "    </tr>\n",
       "    <tr>\n",
       "      <th>2</th>\n",
       "      <td>las de su perdicion: lleuaronla e</td>\n",
       "      <td>tose con alas de su perdicion: lleuaronla en a...</td>\n",
       "      <td>lleuaronla</td>\n",
       "      <td>:</td>\n",
       "      <td>no</td>\n",
       "    </tr>\n",
       "    <tr>\n",
       "      <th>3</th>\n",
       "      <td>ue ella, por ceuo la lleuan:</td>\n",
       "      <td>rtes mas que ella, por ceuo la lleuan: en las ...</td>\n",
       "      <td>lleuan</td>\n",
       "      <td>a</td>\n",
       "      <td>yes</td>\n",
       "    </tr>\n",
       "    <tr>\n",
       "      <th>4</th>\n",
       "      <td>on es que aplique mi pluma e</td>\n",
       "      <td>dano: razon es que aplique mi pluma este enga...</td>\n",
       "      <td>pluma</td>\n",
       "      <td>i</td>\n",
       "      <td>no</td>\n",
       "    </tr>\n",
       "  </tbody>\n",
       "</table>\n",
       "</div>"
      ],
      "text/plain": [
       "                       context_small  \\\n",
       "0      de Milan: mas en los claros i   \n",
       "1       tificio: su fuerte e claro m   \n",
       "2  las de su perdicion: lleuaronla e   \n",
       "3      ue ella, por ceuo la lleuan:    \n",
       "4       on es que aplique mi pluma e   \n",
       "\n",
       "                                       context_large        word prev prev_fav  \n",
       "0  herrerias de Milan: mas en los claros ingenios...      claros    s       no  \n",
       "1  : sotil artificio: su fuerte e claro metal: su...       claro    e      yes  \n",
       "2  tose con alas de su perdicion: lleuaronla en a...  lleuaronla    :       no  \n",
       "3  rtes mas que ella, por ceuo la lleuan: en las ...      lleuan    a      yes  \n",
       "4   dano: razon es que aplique mi pluma este enga...       pluma    i       no  "
      ]
     },
     "execution_count": 589,
     "metadata": {},
     "output_type": "execute_result"
    }
   ],
   "source": [
    "df[\"prev_fav\"] = np.where((df['prev'] == \"e\") | (df['prev'] == \"a\") | (df['prev'] == \"o\"), \"yes\", \"no\")\n",
    "df.head()"
   ]
  },
  {
   "cell_type": "code",
   "execution_count": 590,
   "metadata": {},
   "outputs": [
    {
     "data": {
      "text/html": [
       "<div>\n",
       "<style scoped>\n",
       "    .dataframe tbody tr th:only-of-type {\n",
       "        vertical-align: middle;\n",
       "    }\n",
       "\n",
       "    .dataframe tbody tr th {\n",
       "        vertical-align: top;\n",
       "    }\n",
       "\n",
       "    .dataframe thead th {\n",
       "        text-align: right;\n",
       "    }\n",
       "</style>\n",
       "<table border=\"1\" class=\"dataframe\">\n",
       "  <thead>\n",
       "    <tr style=\"text-align: right;\">\n",
       "      <th></th>\n",
       "      <th>context_small</th>\n",
       "      <th>context_large</th>\n",
       "      <th>word</th>\n",
       "      <th>prev</th>\n",
       "      <th>prev_fav</th>\n",
       "      <th>fol</th>\n",
       "    </tr>\n",
       "  </thead>\n",
       "  <tbody>\n",
       "    <tr>\n",
       "      <th>0</th>\n",
       "      <td>de Milan: mas en los claros i</td>\n",
       "      <td>herrerias de Milan: mas en los claros ingenios...</td>\n",
       "      <td>claros</td>\n",
       "      <td>s</td>\n",
       "      <td>no</td>\n",
       "      <td>a</td>\n",
       "    </tr>\n",
       "    <tr>\n",
       "      <th>1</th>\n",
       "      <td>tificio: su fuerte e claro m</td>\n",
       "      <td>: sotil artificio: su fuerte e claro metal: su...</td>\n",
       "      <td>claro</td>\n",
       "      <td>e</td>\n",
       "      <td>yes</td>\n",
       "      <td>a</td>\n",
       "    </tr>\n",
       "    <tr>\n",
       "      <th>2</th>\n",
       "      <td>las de su perdicion: lleuaronla e</td>\n",
       "      <td>tose con alas de su perdicion: lleuaronla en a...</td>\n",
       "      <td>lleuaronla</td>\n",
       "      <td>:</td>\n",
       "      <td>no</td>\n",
       "      <td>e</td>\n",
       "    </tr>\n",
       "    <tr>\n",
       "      <th>3</th>\n",
       "      <td>ue ella, por ceuo la lleuan:</td>\n",
       "      <td>rtes mas que ella, por ceuo la lleuan: en las ...</td>\n",
       "      <td>lleuan</td>\n",
       "      <td>a</td>\n",
       "      <td>yes</td>\n",
       "      <td>e</td>\n",
       "    </tr>\n",
       "    <tr>\n",
       "      <th>4</th>\n",
       "      <td>on es que aplique mi pluma e</td>\n",
       "      <td>dano: razon es que aplique mi pluma este enga...</td>\n",
       "      <td>pluma</td>\n",
       "      <td>i</td>\n",
       "      <td>no</td>\n",
       "      <td>u</td>\n",
       "    </tr>\n",
       "  </tbody>\n",
       "</table>\n",
       "</div>"
      ],
      "text/plain": [
       "                       context_small  \\\n",
       "0      de Milan: mas en los claros i   \n",
       "1       tificio: su fuerte e claro m   \n",
       "2  las de su perdicion: lleuaronla e   \n",
       "3      ue ella, por ceuo la lleuan:    \n",
       "4       on es que aplique mi pluma e   \n",
       "\n",
       "                                       context_large        word prev  \\\n",
       "0  herrerias de Milan: mas en los claros ingenios...      claros    s   \n",
       "1  : sotil artificio: su fuerte e claro metal: su...       claro    e   \n",
       "2  tose con alas de su perdicion: lleuaronla en a...  lleuaronla    :   \n",
       "3  rtes mas que ella, por ceuo la lleuan: en las ...      lleuan    a   \n",
       "4   dano: razon es que aplique mi pluma este enga...       pluma    i   \n",
       "\n",
       "  prev_fav fol  \n",
       "0       no   a  \n",
       "1      yes   a  \n",
       "2       no   e  \n",
       "3      yes   e  \n",
       "4       no   u  "
      ]
     },
     "execution_count": 590,
     "metadata": {},
     "output_type": "execute_result"
    }
   ],
   "source": [
    "df[\"fol\"] = df[\"context_large\"].apply(lambda x: re.search(r'.\\s[pflc]l\\w', x).group())\n",
    "df[\"fol\"] = df[\"fol\"].apply(lambda x: re.sub(r'.\\s[pflc]l(\\w)', (r\"\\1\"), x))\n",
    "df.head()"
   ]
  },
  {
   "cell_type": "code",
   "execution_count": 591,
   "metadata": {},
   "outputs": [
    {
     "data": {
      "text/html": [
       "<div>\n",
       "<style scoped>\n",
       "    .dataframe tbody tr th:only-of-type {\n",
       "        vertical-align: middle;\n",
       "    }\n",
       "\n",
       "    .dataframe tbody tr th {\n",
       "        vertical-align: top;\n",
       "    }\n",
       "\n",
       "    .dataframe thead th {\n",
       "        text-align: right;\n",
       "    }\n",
       "</style>\n",
       "<table border=\"1\" class=\"dataframe\">\n",
       "  <thead>\n",
       "    <tr style=\"text-align: right;\">\n",
       "      <th></th>\n",
       "      <th>context_small</th>\n",
       "      <th>context_large</th>\n",
       "      <th>word</th>\n",
       "      <th>prev</th>\n",
       "      <th>prev_fav</th>\n",
       "      <th>fol</th>\n",
       "      <th>fol_fav</th>\n",
       "    </tr>\n",
       "  </thead>\n",
       "  <tbody>\n",
       "    <tr>\n",
       "      <th>0</th>\n",
       "      <td>de Milan: mas en los claros i</td>\n",
       "      <td>herrerias de Milan: mas en los claros ingenios...</td>\n",
       "      <td>claros</td>\n",
       "      <td>s</td>\n",
       "      <td>no</td>\n",
       "      <td>a</td>\n",
       "      <td>yes</td>\n",
       "    </tr>\n",
       "    <tr>\n",
       "      <th>1</th>\n",
       "      <td>tificio: su fuerte e claro m</td>\n",
       "      <td>: sotil artificio: su fuerte e claro metal: su...</td>\n",
       "      <td>claro</td>\n",
       "      <td>e</td>\n",
       "      <td>yes</td>\n",
       "      <td>a</td>\n",
       "      <td>yes</td>\n",
       "    </tr>\n",
       "    <tr>\n",
       "      <th>2</th>\n",
       "      <td>las de su perdicion: lleuaronla e</td>\n",
       "      <td>tose con alas de su perdicion: lleuaronla en a...</td>\n",
       "      <td>lleuaronla</td>\n",
       "      <td>:</td>\n",
       "      <td>no</td>\n",
       "      <td>e</td>\n",
       "      <td>yes</td>\n",
       "    </tr>\n",
       "    <tr>\n",
       "      <th>3</th>\n",
       "      <td>ue ella, por ceuo la lleuan:</td>\n",
       "      <td>rtes mas que ella, por ceuo la lleuan: en las ...</td>\n",
       "      <td>lleuan</td>\n",
       "      <td>a</td>\n",
       "      <td>yes</td>\n",
       "      <td>e</td>\n",
       "      <td>yes</td>\n",
       "    </tr>\n",
       "    <tr>\n",
       "      <th>4</th>\n",
       "      <td>on es que aplique mi pluma e</td>\n",
       "      <td>dano: razon es que aplique mi pluma este enga...</td>\n",
       "      <td>pluma</td>\n",
       "      <td>i</td>\n",
       "      <td>no</td>\n",
       "      <td>u</td>\n",
       "      <td>no</td>\n",
       "    </tr>\n",
       "  </tbody>\n",
       "</table>\n",
       "</div>"
      ],
      "text/plain": [
       "                       context_small  \\\n",
       "0      de Milan: mas en los claros i   \n",
       "1       tificio: su fuerte e claro m   \n",
       "2  las de su perdicion: lleuaronla e   \n",
       "3      ue ella, por ceuo la lleuan:    \n",
       "4       on es que aplique mi pluma e   \n",
       "\n",
       "                                       context_large        word prev  \\\n",
       "0  herrerias de Milan: mas en los claros ingenios...      claros    s   \n",
       "1  : sotil artificio: su fuerte e claro metal: su...       claro    e   \n",
       "2  tose con alas de su perdicion: lleuaronla en a...  lleuaronla    :   \n",
       "3  rtes mas que ella, por ceuo la lleuan: en las ...      lleuan    a   \n",
       "4   dano: razon es que aplique mi pluma este enga...       pluma    i   \n",
       "\n",
       "  prev_fav fol fol_fav  \n",
       "0       no   a     yes  \n",
       "1      yes   a     yes  \n",
       "2       no   e     yes  \n",
       "3      yes   e     yes  \n",
       "4       no   u      no  "
      ]
     },
     "execution_count": 591,
     "metadata": {},
     "output_type": "execute_result"
    }
   ],
   "source": [
    "df[\"fol_fav\"] = np.where((df['fol'] == \"e\") | (df['fol'] == \"a\") | (df['fol'] == \"o\"), \"yes\", \"no\")\n",
    "df.head()"
   ]
  },
  {
   "cell_type": "markdown",
   "metadata": {},
   "source": [
    "## Find token frequency (ppm) for each token word"
   ]
  },
  {
   "cell_type": "code",
   "execution_count": 596,
   "metadata": {},
   "outputs": [],
   "source": [
    "import nltk\n",
    "from nltk.tokenize import RegexpTokenizer"
   ]
  },
  {
   "cell_type": "code",
   "execution_count": 601,
   "metadata": {},
   "outputs": [],
   "source": [
    "tokenizer = RegexpTokenizer(r'\\w+')\n",
    "total_words = tokenizer.tokenize(text_3)\n",
    "total_words = len(total_words)"
   ]
  },
  {
   "cell_type": "code",
   "execution_count": 605,
   "metadata": {},
   "outputs": [
    {
     "data": {
      "text/html": [
       "<div>\n",
       "<style scoped>\n",
       "    .dataframe tbody tr th:only-of-type {\n",
       "        vertical-align: middle;\n",
       "    }\n",
       "\n",
       "    .dataframe tbody tr th {\n",
       "        vertical-align: top;\n",
       "    }\n",
       "\n",
       "    .dataframe thead th {\n",
       "        text-align: right;\n",
       "    }\n",
       "</style>\n",
       "<table border=\"1\" class=\"dataframe\">\n",
       "  <thead>\n",
       "    <tr style=\"text-align: right;\">\n",
       "      <th></th>\n",
       "      <th>context_small</th>\n",
       "      <th>context_large</th>\n",
       "      <th>word</th>\n",
       "      <th>prev</th>\n",
       "      <th>prev_fav</th>\n",
       "      <th>fol</th>\n",
       "      <th>fol_fav</th>\n",
       "      <th>frequency</th>\n",
       "      <th>freq_log_ppm</th>\n",
       "      <th>count</th>\n",
       "      <th>frequency_ppm</th>\n",
       "    </tr>\n",
       "  </thead>\n",
       "  <tbody>\n",
       "    <tr>\n",
       "      <th>0</th>\n",
       "      <td>de Milan: mas en los claros i</td>\n",
       "      <td>herrerias de Milan: mas en los claros ingenios...</td>\n",
       "      <td>claros</td>\n",
       "      <td>s</td>\n",
       "      <td>no</td>\n",
       "      <td>a</td>\n",
       "      <td>yes</td>\n",
       "      <td>87.710322</td>\n",
       "      <td>4.474040</td>\n",
       "      <td>6</td>\n",
       "      <td>87.710322</td>\n",
       "    </tr>\n",
       "    <tr>\n",
       "      <th>1</th>\n",
       "      <td>tificio: su fuerte e claro m</td>\n",
       "      <td>: sotil artificio: su fuerte e claro metal: su...</td>\n",
       "      <td>claro</td>\n",
       "      <td>e</td>\n",
       "      <td>yes</td>\n",
       "      <td>a</td>\n",
       "      <td>yes</td>\n",
       "      <td>336.222901</td>\n",
       "      <td>5.817774</td>\n",
       "      <td>23</td>\n",
       "      <td>336.222901</td>\n",
       "    </tr>\n",
       "    <tr>\n",
       "      <th>2</th>\n",
       "      <td>las de su perdicion: lleuaronla e</td>\n",
       "      <td>tose con alas de su perdicion: lleuaronla en a...</td>\n",
       "      <td>lleuaronla</td>\n",
       "      <td>:</td>\n",
       "      <td>no</td>\n",
       "      <td>e</td>\n",
       "      <td>yes</td>\n",
       "      <td>29.236774</td>\n",
       "      <td>3.375427</td>\n",
       "      <td>2</td>\n",
       "      <td>29.236774</td>\n",
       "    </tr>\n",
       "    <tr>\n",
       "      <th>3</th>\n",
       "      <td>ue ella, por ceuo la lleuan:</td>\n",
       "      <td>rtes mas que ella, por ceuo la lleuan: en las ...</td>\n",
       "      <td>lleuan</td>\n",
       "      <td>a</td>\n",
       "      <td>yes</td>\n",
       "      <td>e</td>\n",
       "      <td>yes</td>\n",
       "      <td>58.473548</td>\n",
       "      <td>4.068574</td>\n",
       "      <td>4</td>\n",
       "      <td>58.473548</td>\n",
       "    </tr>\n",
       "    <tr>\n",
       "      <th>4</th>\n",
       "      <td>on es que aplique mi pluma e</td>\n",
       "      <td>dano: razon es que aplique mi pluma este enga...</td>\n",
       "      <td>pluma</td>\n",
       "      <td>i</td>\n",
       "      <td>no</td>\n",
       "      <td>u</td>\n",
       "      <td>no</td>\n",
       "      <td>190.039031</td>\n",
       "      <td>5.247229</td>\n",
       "      <td>13</td>\n",
       "      <td>190.039031</td>\n",
       "    </tr>\n",
       "  </tbody>\n",
       "</table>\n",
       "</div>"
      ],
      "text/plain": [
       "                       context_small  \\\n",
       "0      de Milan: mas en los claros i   \n",
       "1       tificio: su fuerte e claro m   \n",
       "2  las de su perdicion: lleuaronla e   \n",
       "3      ue ella, por ceuo la lleuan:    \n",
       "4       on es que aplique mi pluma e   \n",
       "\n",
       "                                       context_large        word prev  \\\n",
       "0  herrerias de Milan: mas en los claros ingenios...      claros    s   \n",
       "1  : sotil artificio: su fuerte e claro metal: su...       claro    e   \n",
       "2  tose con alas de su perdicion: lleuaronla en a...  lleuaronla    :   \n",
       "3  rtes mas que ella, por ceuo la lleuan: en las ...      lleuan    a   \n",
       "4   dano: razon es que aplique mi pluma este enga...       pluma    i   \n",
       "\n",
       "  prev_fav fol fol_fav   frequency  freq_log_ppm  count  frequency_ppm  \n",
       "0       no   a     yes   87.710322      4.474040      6      87.710322  \n",
       "1      yes   a     yes  336.222901      5.817774     23     336.222901  \n",
       "2       no   e     yes   29.236774      3.375427      2      29.236774  \n",
       "3      yes   e     yes   58.473548      4.068574      4      58.473548  \n",
       "4       no   u      no  190.039031      5.247229     13     190.039031  "
      ]
     },
     "execution_count": 605,
     "metadata": {},
     "output_type": "execute_result"
    }
   ],
   "source": [
    "df[\"count\"] = df['word'].apply(lambda x: len(re.findall(x, text_3)))\n",
    "df[\"frequency_ppm\"] = df[\"count\"].apply(lambda x: (x/total_words)*1000000)\n",
    "df.head()"
   ]
  },
  {
   "cell_type": "code",
   "execution_count": 604,
   "metadata": {},
   "outputs": [
    {
     "data": {
      "text/html": [
       "<div>\n",
       "<style scoped>\n",
       "    .dataframe tbody tr th:only-of-type {\n",
       "        vertical-align: middle;\n",
       "    }\n",
       "\n",
       "    .dataframe tbody tr th {\n",
       "        vertical-align: top;\n",
       "    }\n",
       "\n",
       "    .dataframe thead th {\n",
       "        text-align: right;\n",
       "    }\n",
       "</style>\n",
       "<table border=\"1\" class=\"dataframe\">\n",
       "  <thead>\n",
       "    <tr style=\"text-align: right;\">\n",
       "      <th></th>\n",
       "      <th>context_small</th>\n",
       "      <th>context_large</th>\n",
       "      <th>word</th>\n",
       "      <th>prev</th>\n",
       "      <th>prev_fav</th>\n",
       "      <th>fol</th>\n",
       "      <th>fol_fav</th>\n",
       "      <th>frequency</th>\n",
       "      <th>freq_log_ppm</th>\n",
       "    </tr>\n",
       "  </thead>\n",
       "  <tbody>\n",
       "    <tr>\n",
       "      <th>0</th>\n",
       "      <td>de Milan: mas en los claros i</td>\n",
       "      <td>herrerias de Milan: mas en los claros ingenios...</td>\n",
       "      <td>claros</td>\n",
       "      <td>s</td>\n",
       "      <td>no</td>\n",
       "      <td>a</td>\n",
       "      <td>yes</td>\n",
       "      <td>87.710322</td>\n",
       "      <td>4.474040</td>\n",
       "    </tr>\n",
       "    <tr>\n",
       "      <th>1</th>\n",
       "      <td>tificio: su fuerte e claro m</td>\n",
       "      <td>: sotil artificio: su fuerte e claro metal: su...</td>\n",
       "      <td>claro</td>\n",
       "      <td>e</td>\n",
       "      <td>yes</td>\n",
       "      <td>a</td>\n",
       "      <td>yes</td>\n",
       "      <td>336.222901</td>\n",
       "      <td>5.817774</td>\n",
       "    </tr>\n",
       "    <tr>\n",
       "      <th>2</th>\n",
       "      <td>las de su perdicion: lleuaronla e</td>\n",
       "      <td>tose con alas de su perdicion: lleuaronla en a...</td>\n",
       "      <td>lleuaronla</td>\n",
       "      <td>:</td>\n",
       "      <td>no</td>\n",
       "      <td>e</td>\n",
       "      <td>yes</td>\n",
       "      <td>29.236774</td>\n",
       "      <td>3.375427</td>\n",
       "    </tr>\n",
       "    <tr>\n",
       "      <th>3</th>\n",
       "      <td>ue ella, por ceuo la lleuan:</td>\n",
       "      <td>rtes mas que ella, por ceuo la lleuan: en las ...</td>\n",
       "      <td>lleuan</td>\n",
       "      <td>a</td>\n",
       "      <td>yes</td>\n",
       "      <td>e</td>\n",
       "      <td>yes</td>\n",
       "      <td>58.473548</td>\n",
       "      <td>4.068574</td>\n",
       "    </tr>\n",
       "    <tr>\n",
       "      <th>4</th>\n",
       "      <td>on es que aplique mi pluma e</td>\n",
       "      <td>dano: razon es que aplique mi pluma este enga...</td>\n",
       "      <td>pluma</td>\n",
       "      <td>i</td>\n",
       "      <td>no</td>\n",
       "      <td>u</td>\n",
       "      <td>no</td>\n",
       "      <td>190.039031</td>\n",
       "      <td>5.247229</td>\n",
       "    </tr>\n",
       "  </tbody>\n",
       "</table>\n",
       "</div>"
      ],
      "text/plain": [
       "                       context_small  \\\n",
       "0      de Milan: mas en los claros i   \n",
       "1       tificio: su fuerte e claro m   \n",
       "2  las de su perdicion: lleuaronla e   \n",
       "3      ue ella, por ceuo la lleuan:    \n",
       "4       on es que aplique mi pluma e   \n",
       "\n",
       "                                       context_large        word prev  \\\n",
       "0  herrerias de Milan: mas en los claros ingenios...      claros    s   \n",
       "1  : sotil artificio: su fuerte e claro metal: su...       claro    e   \n",
       "2  tose con alas de su perdicion: lleuaronla en a...  lleuaronla    :   \n",
       "3  rtes mas que ella, por ceuo la lleuan: en las ...      lleuan    a   \n",
       "4   dano: razon es que aplique mi pluma este enga...       pluma    i   \n",
       "\n",
       "  prev_fav fol fol_fav   frequency  freq_log_ppm  \n",
       "0       no   a     yes   87.710322      4.474040  \n",
       "1      yes   a     yes  336.222901      5.817774  \n",
       "2       no   e     yes   29.236774      3.375427  \n",
       "3      yes   e     yes   58.473548      4.068574  \n",
       "4       no   u      no  190.039031      5.247229  "
      ]
     },
     "execution_count": 604,
     "metadata": {},
     "output_type": "execute_result"
    }
   ],
   "source": [
    "import math\n",
    "df[\"freq_log_ppm\"] = df[\"frequency\"].apply(lambda x: math.log(x))\n",
    "df.head()"
   ]
  },
  {
   "cell_type": "markdown",
   "metadata": {},
   "source": [
    "## Hapax tokens"
   ]
  },
  {
   "cell_type": "code",
   "execution_count": 607,
   "metadata": {},
   "outputs": [
    {
     "data": {
      "text/html": [
       "<div>\n",
       "<style scoped>\n",
       "    .dataframe tbody tr th:only-of-type {\n",
       "        vertical-align: middle;\n",
       "    }\n",
       "\n",
       "    .dataframe tbody tr th {\n",
       "        vertical-align: top;\n",
       "    }\n",
       "\n",
       "    .dataframe thead th {\n",
       "        text-align: right;\n",
       "    }\n",
       "</style>\n",
       "<table border=\"1\" class=\"dataframe\">\n",
       "  <thead>\n",
       "    <tr style=\"text-align: right;\">\n",
       "      <th></th>\n",
       "      <th>context_small</th>\n",
       "      <th>context_large</th>\n",
       "      <th>word</th>\n",
       "      <th>prev</th>\n",
       "      <th>prev_fav</th>\n",
       "      <th>fol</th>\n",
       "      <th>fol_fav</th>\n",
       "      <th>frequency</th>\n",
       "      <th>freq_log_ppm</th>\n",
       "      <th>count</th>\n",
       "      <th>frequency_ppm</th>\n",
       "      <th>hapax</th>\n",
       "    </tr>\n",
       "  </thead>\n",
       "  <tbody>\n",
       "    <tr>\n",
       "      <th>0</th>\n",
       "      <td>de Milan: mas en los claros i</td>\n",
       "      <td>herrerias de Milan: mas en los claros ingenios...</td>\n",
       "      <td>claros</td>\n",
       "      <td>s</td>\n",
       "      <td>no</td>\n",
       "      <td>a</td>\n",
       "      <td>yes</td>\n",
       "      <td>87.710322</td>\n",
       "      <td>4.474040</td>\n",
       "      <td>6</td>\n",
       "      <td>87.710322</td>\n",
       "      <td>no</td>\n",
       "    </tr>\n",
       "    <tr>\n",
       "      <th>1</th>\n",
       "      <td>tificio: su fuerte e claro m</td>\n",
       "      <td>: sotil artificio: su fuerte e claro metal: su...</td>\n",
       "      <td>claro</td>\n",
       "      <td>e</td>\n",
       "      <td>yes</td>\n",
       "      <td>a</td>\n",
       "      <td>yes</td>\n",
       "      <td>336.222901</td>\n",
       "      <td>5.817774</td>\n",
       "      <td>23</td>\n",
       "      <td>336.222901</td>\n",
       "      <td>no</td>\n",
       "    </tr>\n",
       "    <tr>\n",
       "      <th>2</th>\n",
       "      <td>las de su perdicion: lleuaronla e</td>\n",
       "      <td>tose con alas de su perdicion: lleuaronla en a...</td>\n",
       "      <td>lleuaronla</td>\n",
       "      <td>:</td>\n",
       "      <td>no</td>\n",
       "      <td>e</td>\n",
       "      <td>yes</td>\n",
       "      <td>29.236774</td>\n",
       "      <td>3.375427</td>\n",
       "      <td>2</td>\n",
       "      <td>29.236774</td>\n",
       "      <td>no</td>\n",
       "    </tr>\n",
       "    <tr>\n",
       "      <th>3</th>\n",
       "      <td>ue ella, por ceuo la lleuan:</td>\n",
       "      <td>rtes mas que ella, por ceuo la lleuan: en las ...</td>\n",
       "      <td>lleuan</td>\n",
       "      <td>a</td>\n",
       "      <td>yes</td>\n",
       "      <td>e</td>\n",
       "      <td>yes</td>\n",
       "      <td>58.473548</td>\n",
       "      <td>4.068574</td>\n",
       "      <td>4</td>\n",
       "      <td>58.473548</td>\n",
       "      <td>no</td>\n",
       "    </tr>\n",
       "    <tr>\n",
       "      <th>4</th>\n",
       "      <td>on es que aplique mi pluma e</td>\n",
       "      <td>dano: razon es que aplique mi pluma este enga...</td>\n",
       "      <td>pluma</td>\n",
       "      <td>i</td>\n",
       "      <td>no</td>\n",
       "      <td>u</td>\n",
       "      <td>no</td>\n",
       "      <td>190.039031</td>\n",
       "      <td>5.247229</td>\n",
       "      <td>13</td>\n",
       "      <td>190.039031</td>\n",
       "      <td>no</td>\n",
       "    </tr>\n",
       "  </tbody>\n",
       "</table>\n",
       "</div>"
      ],
      "text/plain": [
       "                       context_small  \\\n",
       "0      de Milan: mas en los claros i   \n",
       "1       tificio: su fuerte e claro m   \n",
       "2  las de su perdicion: lleuaronla e   \n",
       "3      ue ella, por ceuo la lleuan:    \n",
       "4       on es que aplique mi pluma e   \n",
       "\n",
       "                                       context_large        word prev  \\\n",
       "0  herrerias de Milan: mas en los claros ingenios...      claros    s   \n",
       "1  : sotil artificio: su fuerte e claro metal: su...       claro    e   \n",
       "2  tose con alas de su perdicion: lleuaronla en a...  lleuaronla    :   \n",
       "3  rtes mas que ella, por ceuo la lleuan: en las ...      lleuan    a   \n",
       "4   dano: razon es que aplique mi pluma este enga...       pluma    i   \n",
       "\n",
       "  prev_fav fol fol_fav   frequency  freq_log_ppm  count  frequency_ppm hapax  \n",
       "0       no   a     yes   87.710322      4.474040      6      87.710322    no  \n",
       "1      yes   a     yes  336.222901      5.817774     23     336.222901    no  \n",
       "2       no   e     yes   29.236774      3.375427      2      29.236774    no  \n",
       "3      yes   e     yes   58.473548      4.068574      4      58.473548    no  \n",
       "4       no   u      no  190.039031      5.247229     13     190.039031    no  "
      ]
     },
     "execution_count": 607,
     "metadata": {},
     "output_type": "execute_result"
    }
   ],
   "source": [
    "df[\"hapax\"] = np.where(df[\"count\"] == 1, \"yes\", \"no\")\n",
    "df.head()"
   ]
  },
  {
   "cell_type": "markdown",
   "metadata": {},
   "source": [
    "## Lexical Stress"
   ]
  },
  {
   "cell_type": "code",
   "execution_count": 610,
   "metadata": {},
   "outputs": [],
   "source": [
    "from syltippy import syllabize"
   ]
  },
  {
   "cell_type": "code",
   "execution_count": 613,
   "metadata": {},
   "outputs": [
    {
     "data": {
      "text/plain": [
       "0"
      ]
     },
     "execution_count": 613,
     "metadata": {},
     "output_type": "execute_result"
    }
   ],
   "source": [
    "syllabize(\"pluma\")[1]"
   ]
  },
  {
   "cell_type": "code",
   "execution_count": 614,
   "metadata": {},
   "outputs": [
    {
     "data": {
      "text/html": [
       "<div>\n",
       "<style scoped>\n",
       "    .dataframe tbody tr th:only-of-type {\n",
       "        vertical-align: middle;\n",
       "    }\n",
       "\n",
       "    .dataframe tbody tr th {\n",
       "        vertical-align: top;\n",
       "    }\n",
       "\n",
       "    .dataframe thead th {\n",
       "        text-align: right;\n",
       "    }\n",
       "</style>\n",
       "<table border=\"1\" class=\"dataframe\">\n",
       "  <thead>\n",
       "    <tr style=\"text-align: right;\">\n",
       "      <th></th>\n",
       "      <th>context_small</th>\n",
       "      <th>context_large</th>\n",
       "      <th>word</th>\n",
       "      <th>prev</th>\n",
       "      <th>prev_fav</th>\n",
       "      <th>fol</th>\n",
       "      <th>fol_fav</th>\n",
       "      <th>frequency</th>\n",
       "      <th>freq_log_ppm</th>\n",
       "      <th>count</th>\n",
       "      <th>frequency_ppm</th>\n",
       "      <th>hapax</th>\n",
       "      <th>stress</th>\n",
       "    </tr>\n",
       "  </thead>\n",
       "  <tbody>\n",
       "    <tr>\n",
       "      <th>0</th>\n",
       "      <td>de Milan: mas en los claros i</td>\n",
       "      <td>herrerias de Milan: mas en los claros ingenios...</td>\n",
       "      <td>claros</td>\n",
       "      <td>s</td>\n",
       "      <td>no</td>\n",
       "      <td>a</td>\n",
       "      <td>yes</td>\n",
       "      <td>87.710322</td>\n",
       "      <td>4.474040</td>\n",
       "      <td>6</td>\n",
       "      <td>87.710322</td>\n",
       "      <td>no</td>\n",
       "      <td>stressed</td>\n",
       "    </tr>\n",
       "    <tr>\n",
       "      <th>1</th>\n",
       "      <td>tificio: su fuerte e claro m</td>\n",
       "      <td>: sotil artificio: su fuerte e claro metal: su...</td>\n",
       "      <td>claro</td>\n",
       "      <td>e</td>\n",
       "      <td>yes</td>\n",
       "      <td>a</td>\n",
       "      <td>yes</td>\n",
       "      <td>336.222901</td>\n",
       "      <td>5.817774</td>\n",
       "      <td>23</td>\n",
       "      <td>336.222901</td>\n",
       "      <td>no</td>\n",
       "      <td>stressed</td>\n",
       "    </tr>\n",
       "    <tr>\n",
       "      <th>2</th>\n",
       "      <td>las de su perdicion: lleuaronla e</td>\n",
       "      <td>tose con alas de su perdicion: lleuaronla en a...</td>\n",
       "      <td>lleuaronla</td>\n",
       "      <td>:</td>\n",
       "      <td>no</td>\n",
       "      <td>e</td>\n",
       "      <td>yes</td>\n",
       "      <td>29.236774</td>\n",
       "      <td>3.375427</td>\n",
       "      <td>2</td>\n",
       "      <td>29.236774</td>\n",
       "      <td>no</td>\n",
       "      <td>stressed</td>\n",
       "    </tr>\n",
       "    <tr>\n",
       "      <th>3</th>\n",
       "      <td>ue ella, por ceuo la lleuan:</td>\n",
       "      <td>rtes mas que ella, por ceuo la lleuan: en las ...</td>\n",
       "      <td>lleuan</td>\n",
       "      <td>a</td>\n",
       "      <td>yes</td>\n",
       "      <td>e</td>\n",
       "      <td>yes</td>\n",
       "      <td>58.473548</td>\n",
       "      <td>4.068574</td>\n",
       "      <td>4</td>\n",
       "      <td>58.473548</td>\n",
       "      <td>no</td>\n",
       "      <td>stressed</td>\n",
       "    </tr>\n",
       "    <tr>\n",
       "      <th>4</th>\n",
       "      <td>on es que aplique mi pluma e</td>\n",
       "      <td>dano: razon es que aplique mi pluma este enga...</td>\n",
       "      <td>pluma</td>\n",
       "      <td>i</td>\n",
       "      <td>no</td>\n",
       "      <td>u</td>\n",
       "      <td>no</td>\n",
       "      <td>190.039031</td>\n",
       "      <td>5.247229</td>\n",
       "      <td>13</td>\n",
       "      <td>190.039031</td>\n",
       "      <td>no</td>\n",
       "      <td>stressed</td>\n",
       "    </tr>\n",
       "  </tbody>\n",
       "</table>\n",
       "</div>"
      ],
      "text/plain": [
       "                       context_small  \\\n",
       "0      de Milan: mas en los claros i   \n",
       "1       tificio: su fuerte e claro m   \n",
       "2  las de su perdicion: lleuaronla e   \n",
       "3      ue ella, por ceuo la lleuan:    \n",
       "4       on es que aplique mi pluma e   \n",
       "\n",
       "                                       context_large        word prev  \\\n",
       "0  herrerias de Milan: mas en los claros ingenios...      claros    s   \n",
       "1  : sotil artificio: su fuerte e claro metal: su...       claro    e   \n",
       "2  tose con alas de su perdicion: lleuaronla en a...  lleuaronla    :   \n",
       "3  rtes mas que ella, por ceuo la lleuan: en las ...      lleuan    a   \n",
       "4   dano: razon es que aplique mi pluma este enga...       pluma    i   \n",
       "\n",
       "  prev_fav fol fol_fav   frequency  freq_log_ppm  count  frequency_ppm hapax  \\\n",
       "0       no   a     yes   87.710322      4.474040      6      87.710322    no   \n",
       "1      yes   a     yes  336.222901      5.817774     23     336.222901    no   \n",
       "2       no   e     yes   29.236774      3.375427      2      29.236774    no   \n",
       "3      yes   e     yes   58.473548      4.068574      4      58.473548    no   \n",
       "4       no   u      no  190.039031      5.247229     13     190.039031    no   \n",
       "\n",
       "     stress  \n",
       "0  stressed  \n",
       "1  stressed  \n",
       "2  stressed  \n",
       "3  stressed  \n",
       "4  stressed  "
      ]
     },
     "execution_count": 614,
     "metadata": {},
     "output_type": "execute_result"
    }
   ],
   "source": [
    "df[\"stress\"] = np.where(syllabize(df[\"word\"])[1]==0, \"stressed\", \"unstressed\")\n",
    "df.head()"
   ]
  },
  {
   "cell_type": "markdown",
   "metadata": {},
   "source": [
    "## FFC: Frequency in favorable environment"
   ]
  },
  {
   "cell_type": "code",
   "execution_count": 640,
   "metadata": {},
   "outputs": [
    {
     "data": {
      "text/html": [
       "<div>\n",
       "<style scoped>\n",
       "    .dataframe tbody tr th:only-of-type {\n",
       "        vertical-align: middle;\n",
       "    }\n",
       "\n",
       "    .dataframe tbody tr th {\n",
       "        vertical-align: top;\n",
       "    }\n",
       "\n",
       "    .dataframe thead th {\n",
       "        text-align: right;\n",
       "    }\n",
       "</style>\n",
       "<table border=\"1\" class=\"dataframe\">\n",
       "  <thead>\n",
       "    <tr style=\"text-align: right;\">\n",
       "      <th></th>\n",
       "      <th></th>\n",
       "      <th>fav_count</th>\n",
       "    </tr>\n",
       "    <tr>\n",
       "      <th>word</th>\n",
       "      <th>prev_fav</th>\n",
       "      <th></th>\n",
       "    </tr>\n",
       "  </thead>\n",
       "  <tbody>\n",
       "    <tr>\n",
       "      <th>clamor</th>\n",
       "      <th>yes</th>\n",
       "      <td>1</td>\n",
       "    </tr>\n",
       "    <tr>\n",
       "      <th rowspan=\"2\" valign=\"top\">clara</th>\n",
       "      <th>no</th>\n",
       "      <td>4</td>\n",
       "    </tr>\n",
       "    <tr>\n",
       "      <th>yes</th>\n",
       "      <td>3</td>\n",
       "    </tr>\n",
       "    <tr>\n",
       "      <th>claras</th>\n",
       "      <th>no</th>\n",
       "      <td>3</td>\n",
       "    </tr>\n",
       "    <tr>\n",
       "      <th>claridad</th>\n",
       "      <th>yes</th>\n",
       "      <td>4</td>\n",
       "    </tr>\n",
       "  </tbody>\n",
       "</table>\n",
       "</div>"
      ],
      "text/plain": [
       "                   fav_count\n",
       "word     prev_fav           \n",
       "clamor   yes               1\n",
       "clara    no                4\n",
       "         yes               3\n",
       "claras   no                3\n",
       "claridad yes               4"
      ]
     },
     "execution_count": 640,
     "metadata": {},
     "output_type": "execute_result"
    }
   ],
   "source": [
    "values = df.groupby(\"word\")[\"prev_fav\"].value_counts()\n",
    "values_df = values.to_frame()\n",
    "values_df = values_df.rename(columns={\"prev_fav\": \"fav_count\"})\n",
    "values_df.head()"
   ]
  },
  {
   "cell_type": "code",
   "execution_count": 641,
   "metadata": {},
   "outputs": [
    {
     "data": {
      "text/html": [
       "<div>\n",
       "<style scoped>\n",
       "    .dataframe tbody tr th:only-of-type {\n",
       "        vertical-align: middle;\n",
       "    }\n",
       "\n",
       "    .dataframe tbody tr th {\n",
       "        vertical-align: top;\n",
       "    }\n",
       "\n",
       "    .dataframe thead th {\n",
       "        text-align: right;\n",
       "    }\n",
       "</style>\n",
       "<table border=\"1\" class=\"dataframe\">\n",
       "  <thead>\n",
       "    <tr style=\"text-align: right;\">\n",
       "      <th></th>\n",
       "      <th>word</th>\n",
       "      <th>prev_fav</th>\n",
       "      <th>fav_count</th>\n",
       "    </tr>\n",
       "  </thead>\n",
       "  <tbody>\n",
       "    <tr>\n",
       "      <th>0</th>\n",
       "      <td>clamor</td>\n",
       "      <td>yes</td>\n",
       "      <td>1</td>\n",
       "    </tr>\n",
       "    <tr>\n",
       "      <th>1</th>\n",
       "      <td>clara</td>\n",
       "      <td>no</td>\n",
       "      <td>4</td>\n",
       "    </tr>\n",
       "    <tr>\n",
       "      <th>2</th>\n",
       "      <td>clara</td>\n",
       "      <td>yes</td>\n",
       "      <td>3</td>\n",
       "    </tr>\n",
       "    <tr>\n",
       "      <th>3</th>\n",
       "      <td>claras</td>\n",
       "      <td>no</td>\n",
       "      <td>3</td>\n",
       "    </tr>\n",
       "    <tr>\n",
       "      <th>4</th>\n",
       "      <td>claridad</td>\n",
       "      <td>yes</td>\n",
       "      <td>4</td>\n",
       "    </tr>\n",
       "  </tbody>\n",
       "</table>\n",
       "</div>"
      ],
      "text/plain": [
       "       word prev_fav  fav_count\n",
       "0    clamor      yes          1\n",
       "1     clara       no          4\n",
       "2     clara      yes          3\n",
       "3    claras       no          3\n",
       "4  claridad      yes          4"
      ]
     },
     "execution_count": 641,
     "metadata": {},
     "output_type": "execute_result"
    }
   ],
   "source": [
    "values_df = values_df.reset_index()\n",
    "values_df.head()"
   ]
  },
  {
   "cell_type": "code",
   "execution_count": 643,
   "metadata": {},
   "outputs": [
    {
     "data": {
      "text/html": [
       "<div>\n",
       "<style scoped>\n",
       "    .dataframe tbody tr th:only-of-type {\n",
       "        vertical-align: middle;\n",
       "    }\n",
       "\n",
       "    .dataframe tbody tr th {\n",
       "        vertical-align: top;\n",
       "    }\n",
       "\n",
       "    .dataframe thead th {\n",
       "        text-align: right;\n",
       "    }\n",
       "</style>\n",
       "<table border=\"1\" class=\"dataframe\">\n",
       "  <thead>\n",
       "    <tr style=\"text-align: right;\">\n",
       "      <th></th>\n",
       "      <th>word</th>\n",
       "      <th>prev_fav</th>\n",
       "      <th>fav_count</th>\n",
       "      <th>fav_num</th>\n",
       "    </tr>\n",
       "  </thead>\n",
       "  <tbody>\n",
       "    <tr>\n",
       "      <th>0</th>\n",
       "      <td>clamor</td>\n",
       "      <td>yes</td>\n",
       "      <td>1</td>\n",
       "      <td>1</td>\n",
       "    </tr>\n",
       "    <tr>\n",
       "      <th>1</th>\n",
       "      <td>clara</td>\n",
       "      <td>no</td>\n",
       "      <td>4</td>\n",
       "      <td>0</td>\n",
       "    </tr>\n",
       "    <tr>\n",
       "      <th>2</th>\n",
       "      <td>clara</td>\n",
       "      <td>yes</td>\n",
       "      <td>3</td>\n",
       "      <td>3</td>\n",
       "    </tr>\n",
       "    <tr>\n",
       "      <th>3</th>\n",
       "      <td>claras</td>\n",
       "      <td>no</td>\n",
       "      <td>3</td>\n",
       "      <td>0</td>\n",
       "    </tr>\n",
       "    <tr>\n",
       "      <th>4</th>\n",
       "      <td>claridad</td>\n",
       "      <td>yes</td>\n",
       "      <td>4</td>\n",
       "      <td>4</td>\n",
       "    </tr>\n",
       "  </tbody>\n",
       "</table>\n",
       "</div>"
      ],
      "text/plain": [
       "       word prev_fav  fav_count  fav_num\n",
       "0    clamor      yes          1        1\n",
       "1     clara       no          4        0\n",
       "2     clara      yes          3        3\n",
       "3    claras       no          3        0\n",
       "4  claridad      yes          4        4"
      ]
     },
     "execution_count": 643,
     "metadata": {},
     "output_type": "execute_result"
    }
   ],
   "source": [
    "values_df[\"fav_num\"] = np.where(values_df[\"prev_fav\"] == \"yes\", values_df[\"fav_count\"], 0)\n",
    "values_df.head()"
   ]
  },
  {
   "cell_type": "code",
   "execution_count": 644,
   "metadata": {},
   "outputs": [
    {
     "data": {
      "text/html": [
       "<div>\n",
       "<style scoped>\n",
       "    .dataframe tbody tr th:only-of-type {\n",
       "        vertical-align: middle;\n",
       "    }\n",
       "\n",
       "    .dataframe tbody tr th {\n",
       "        vertical-align: top;\n",
       "    }\n",
       "\n",
       "    .dataframe thead th {\n",
       "        text-align: right;\n",
       "    }\n",
       "</style>\n",
       "<table border=\"1\" class=\"dataframe\">\n",
       "  <thead>\n",
       "    <tr style=\"text-align: right;\">\n",
       "      <th></th>\n",
       "      <th>word</th>\n",
       "      <th>fav_num</th>\n",
       "    </tr>\n",
       "  </thead>\n",
       "  <tbody>\n",
       "    <tr>\n",
       "      <th>0</th>\n",
       "      <td>clamor</td>\n",
       "      <td>1</td>\n",
       "    </tr>\n",
       "    <tr>\n",
       "      <th>1</th>\n",
       "      <td>clara</td>\n",
       "      <td>0</td>\n",
       "    </tr>\n",
       "    <tr>\n",
       "      <th>2</th>\n",
       "      <td>clara</td>\n",
       "      <td>3</td>\n",
       "    </tr>\n",
       "    <tr>\n",
       "      <th>3</th>\n",
       "      <td>claras</td>\n",
       "      <td>0</td>\n",
       "    </tr>\n",
       "    <tr>\n",
       "      <th>4</th>\n",
       "      <td>claridad</td>\n",
       "      <td>4</td>\n",
       "    </tr>\n",
       "  </tbody>\n",
       "</table>\n",
       "</div>"
      ],
      "text/plain": [
       "       word  fav_num\n",
       "0    clamor        1\n",
       "1     clara        0\n",
       "2     clara        3\n",
       "3    claras        0\n",
       "4  claridad        4"
      ]
     },
     "execution_count": 644,
     "metadata": {},
     "output_type": "execute_result"
    }
   ],
   "source": [
    "values_df_fav = values_df[[\"word\", \"fav_num\"]]\n",
    "values_df_fav.head()"
   ]
  },
  {
   "cell_type": "code",
   "execution_count": 646,
   "metadata": {},
   "outputs": [
    {
     "data": {
      "text/html": [
       "<div>\n",
       "<style scoped>\n",
       "    .dataframe tbody tr th:only-of-type {\n",
       "        vertical-align: middle;\n",
       "    }\n",
       "\n",
       "    .dataframe tbody tr th {\n",
       "        vertical-align: top;\n",
       "    }\n",
       "\n",
       "    .dataframe thead th {\n",
       "        text-align: right;\n",
       "    }\n",
       "</style>\n",
       "<table border=\"1\" class=\"dataframe\">\n",
       "  <thead>\n",
       "    <tr style=\"text-align: right;\">\n",
       "      <th></th>\n",
       "      <th>context_small</th>\n",
       "      <th>context_large</th>\n",
       "      <th>word</th>\n",
       "      <th>prev</th>\n",
       "      <th>prev_fav</th>\n",
       "      <th>fol</th>\n",
       "      <th>fol_fav</th>\n",
       "      <th>frequency</th>\n",
       "      <th>freq_log_ppm</th>\n",
       "      <th>count</th>\n",
       "      <th>frequency_ppm</th>\n",
       "      <th>hapax</th>\n",
       "      <th>stress</th>\n",
       "      <th>fav_num</th>\n",
       "    </tr>\n",
       "  </thead>\n",
       "  <tbody>\n",
       "    <tr>\n",
       "      <th>0</th>\n",
       "      <td>de Milan: mas en los claros i</td>\n",
       "      <td>herrerias de Milan: mas en los claros ingenios...</td>\n",
       "      <td>claros</td>\n",
       "      <td>s</td>\n",
       "      <td>no</td>\n",
       "      <td>a</td>\n",
       "      <td>yes</td>\n",
       "      <td>87.710322</td>\n",
       "      <td>4.474040</td>\n",
       "      <td>6</td>\n",
       "      <td>87.710322</td>\n",
       "      <td>no</td>\n",
       "      <td>stressed</td>\n",
       "      <td>0</td>\n",
       "    </tr>\n",
       "    <tr>\n",
       "      <th>1</th>\n",
       "      <td>de Milan: mas en los claros i</td>\n",
       "      <td>herrerias de Milan: mas en los claros ingenios...</td>\n",
       "      <td>claros</td>\n",
       "      <td>s</td>\n",
       "      <td>no</td>\n",
       "      <td>a</td>\n",
       "      <td>yes</td>\n",
       "      <td>87.710322</td>\n",
       "      <td>4.474040</td>\n",
       "      <td>6</td>\n",
       "      <td>87.710322</td>\n",
       "      <td>no</td>\n",
       "      <td>stressed</td>\n",
       "      <td>1</td>\n",
       "    </tr>\n",
       "    <tr>\n",
       "      <th>2</th>\n",
       "      <td>tificio: su fuerte e claro m</td>\n",
       "      <td>: sotil artificio: su fuerte e claro metal: su...</td>\n",
       "      <td>claro</td>\n",
       "      <td>e</td>\n",
       "      <td>yes</td>\n",
       "      <td>a</td>\n",
       "      <td>yes</td>\n",
       "      <td>336.222901</td>\n",
       "      <td>5.817774</td>\n",
       "      <td>23</td>\n",
       "      <td>336.222901</td>\n",
       "      <td>no</td>\n",
       "      <td>stressed</td>\n",
       "      <td>9</td>\n",
       "    </tr>\n",
       "    <tr>\n",
       "      <th>3</th>\n",
       "      <td>tificio: su fuerte e claro m</td>\n",
       "      <td>: sotil artificio: su fuerte e claro metal: su...</td>\n",
       "      <td>claro</td>\n",
       "      <td>e</td>\n",
       "      <td>yes</td>\n",
       "      <td>a</td>\n",
       "      <td>yes</td>\n",
       "      <td>336.222901</td>\n",
       "      <td>5.817774</td>\n",
       "      <td>23</td>\n",
       "      <td>336.222901</td>\n",
       "      <td>no</td>\n",
       "      <td>stressed</td>\n",
       "      <td>0</td>\n",
       "    </tr>\n",
       "    <tr>\n",
       "      <th>4</th>\n",
       "      <td>las de su perdicion: lleuaronla e</td>\n",
       "      <td>tose con alas de su perdicion: lleuaronla en a...</td>\n",
       "      <td>lleuaronla</td>\n",
       "      <td>:</td>\n",
       "      <td>no</td>\n",
       "      <td>e</td>\n",
       "      <td>yes</td>\n",
       "      <td>29.236774</td>\n",
       "      <td>3.375427</td>\n",
       "      <td>2</td>\n",
       "      <td>29.236774</td>\n",
       "      <td>no</td>\n",
       "      <td>stressed</td>\n",
       "      <td>0</td>\n",
       "    </tr>\n",
       "  </tbody>\n",
       "</table>\n",
       "</div>"
      ],
      "text/plain": [
       "                       context_small  \\\n",
       "0      de Milan: mas en los claros i   \n",
       "1      de Milan: mas en los claros i   \n",
       "2       tificio: su fuerte e claro m   \n",
       "3       tificio: su fuerte e claro m   \n",
       "4  las de su perdicion: lleuaronla e   \n",
       "\n",
       "                                       context_large        word prev  \\\n",
       "0  herrerias de Milan: mas en los claros ingenios...      claros    s   \n",
       "1  herrerias de Milan: mas en los claros ingenios...      claros    s   \n",
       "2  : sotil artificio: su fuerte e claro metal: su...       claro    e   \n",
       "3  : sotil artificio: su fuerte e claro metal: su...       claro    e   \n",
       "4  tose con alas de su perdicion: lleuaronla en a...  lleuaronla    :   \n",
       "\n",
       "  prev_fav fol fol_fav   frequency  freq_log_ppm  count  frequency_ppm hapax  \\\n",
       "0       no   a     yes   87.710322      4.474040      6      87.710322    no   \n",
       "1       no   a     yes   87.710322      4.474040      6      87.710322    no   \n",
       "2      yes   a     yes  336.222901      5.817774     23     336.222901    no   \n",
       "3      yes   a     yes  336.222901      5.817774     23     336.222901    no   \n",
       "4       no   e     yes   29.236774      3.375427      2      29.236774    no   \n",
       "\n",
       "     stress  fav_num  \n",
       "0  stressed        0  \n",
       "1  stressed        1  \n",
       "2  stressed        9  \n",
       "3  stressed        0  \n",
       "4  stressed        0  "
      ]
     },
     "execution_count": 646,
     "metadata": {},
     "output_type": "execute_result"
    }
   ],
   "source": [
    "df = df.merge(values_df_fav, how=\"left\", on=\"word\")\n",
    "df.head()"
   ]
  },
  {
   "cell_type": "code",
   "execution_count": null,
   "metadata": {},
   "outputs": [],
   "source": []
  }
 ],
 "metadata": {
  "kernelspec": {
   "display_name": "Python 3",
   "language": "python",
   "name": "python3"
  },
  "language_info": {
   "codemirror_mode": {
    "name": "ipython",
    "version": 3
   },
   "file_extension": ".py",
   "mimetype": "text/x-python",
   "name": "python",
   "nbconvert_exporter": "python",
   "pygments_lexer": "ipython3",
   "version": "3.7.6"
  }
 },
 "nbformat": 4,
 "nbformat_minor": 4
}
